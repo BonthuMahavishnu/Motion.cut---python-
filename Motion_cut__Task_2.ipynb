{
  "nbformat": 4,
  "nbformat_minor": 0,
  "metadata": {
    "colab": {
      "provenance": [],
      "authorship_tag": "ABX9TyO7wd6UBQqy249llOXYuuCp",
      "include_colab_link": true
    },
    "kernelspec": {
      "name": "python3",
      "display_name": "Python 3"
    },
    "language_info": {
      "name": "python"
    }
  },
  "cells": [
    {
      "cell_type": "markdown",
      "metadata": {
        "id": "view-in-github",
        "colab_type": "text"
      },
      "source": [
        "<a href=\"https://colab.research.google.com/github/BonthuMahavishnu/Motion.cut---python-/blob/main/Motion_cut__Task_2.ipynb\" target=\"_parent\"><img src=\"https://colab.research.google.com/assets/colab-badge.svg\" alt=\"Open In Colab\"/></a>"
      ]
    },
    {
      "cell_type": "code",
      "source": [
        "def word_counter():\n",
        "\n",
        "  # count words from user input.\n",
        "\n",
        "    text = input(\"Enter a sentence or paragraph: \").strip()\n",
        "    if text:\n",
        "        print(\"Total Number of Words:\", len(text.split()))\n",
        "    else:\n",
        "        print(\"Error: Please enter some text.\")\n",
        "\n",
        "word_counter()\n"
      ],
      "metadata": {
        "colab": {
          "base_uri": "https://localhost:8080/"
        },
        "id": "Hcr6En2WzTqt",
        "outputId": "2a456764-2e7a-4e0c-c0f5-c484b782d046"
      },
      "execution_count": null,
      "outputs": [
        {
          "output_type": "stream",
          "name": "stdout",
          "text": [
            "Enter a sentence or paragraph: Hai , Darling am very happy to see again\n",
            "Total Number of Words: 9\n"
          ]
        }
      ]
    },
    {
      "cell_type": "code",
      "source": [
        "text = input(\"Enter a sentence or paragraph: \").strip()\n",
        "\n",
        "if text:\n",
        "    # Split the text into words and count them\n",
        "    word_count = len(text.split())\n",
        "\n",
        "    print(\"Total Number of Words:\", word_count)\n",
        "else:\n",
        "\n",
        "\n",
        "    print(\"Error: Please enter some text.\")\n"
      ],
      "metadata": {
        "colab": {
          "base_uri": "https://localhost:8080/"
        },
        "id": "uiUzZWWX2VWe",
        "outputId": "3ae13fd3-6c72-448e-f526-f35c304da962"
      },
      "execution_count": 1,
      "outputs": [
        {
          "output_type": "stream",
          "name": "stdout",
          "text": [
            "Enter a sentence or paragraph:  Mee too Darling Day by Day  i will touch with you\n",
            "Total Number of Words: 11\n"
          ]
        }
      ]
    }
  ]
}