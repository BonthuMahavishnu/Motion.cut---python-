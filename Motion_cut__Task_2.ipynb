{
  "nbformat": 4,
  "nbformat_minor": 0,
  "metadata": {
    "colab": {
      "provenance": [],
      "authorship_tag": "ABX9TyP5WtWnY6iZiE45Wqzcxl+K",
      "include_colab_link": true
    },
    "kernelspec": {
      "name": "python3",
      "display_name": "Python 3"
    },
    "language_info": {
      "name": "python"
    }
  },
  "cells": [
    {
      "cell_type": "markdown",
      "metadata": {
        "id": "view-in-github",
        "colab_type": "text"
      },
      "source": [
        "<a href=\"https://colab.research.google.com/github/BonthuMahavishnu/Motion.cut---python-/blob/main/Motion_cut__Task_2.ipynb\" target=\"_parent\"><img src=\"https://colab.research.google.com/assets/colab-badge.svg\" alt=\"Open In Colab\"/></a>"
      ]
    },
    {
      "cell_type": "code",
      "source": [
        "def word_counter():\n",
        "\n",
        "  # count words from user input.\n",
        "\n",
        "    text = input(\"Enter a sentence or paragraph: \").strip()\n",
        "    if text:\n",
        "        print(\"Total Number of Words:\", len(text.split()))\n",
        "    else:\n",
        "        print(\"Error: Please enter some text.\")\n",
        "\n",
        "word_counter()\n"
      ],
      "metadata": {
        "colab": {
          "base_uri": "https://localhost:8080/"
        },
        "id": "Hcr6En2WzTqt",
        "outputId": "2a456764-2e7a-4e0c-c0f5-c484b782d046"
      },
      "execution_count": 5,
      "outputs": [
        {
          "output_type": "stream",
          "name": "stdout",
          "text": [
            "Enter a sentence or paragraph: Hai , Darling am very happy to see again\n",
            "Total Number of Words: 9\n"
          ]
        }
      ]
    }
  ]
}