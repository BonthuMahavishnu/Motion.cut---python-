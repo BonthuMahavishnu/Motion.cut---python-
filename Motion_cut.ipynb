{
  "nbformat": 4,
  "nbformat_minor": 0,
  "metadata": {
    "colab": {
      "provenance": [],
      "authorship_tag": "ABX9TyNjpWuX7ipuJ29WLSAT2VjD",
      "include_colab_link": true
    },
    "kernelspec": {
      "name": "python3",
      "display_name": "Python 3"
    },
    "language_info": {
      "name": "python"
    }
  },
  "cells": [
    {
      "cell_type": "markdown",
      "metadata": {
        "id": "view-in-github",
        "colab_type": "text"
      },
      "source": [
        "<a href=\"https://colab.research.google.com/github/BonthuMahavishnu/Motion.cut---python-/blob/main/Motion_cut.ipynb\" target=\"_parent\"><img src=\"https://colab.research.google.com/assets/colab-badge.svg\" alt=\"Open In Colab\"/></a>"
      ]
    },
    {
      "cell_type": "code",
      "execution_count": null,
      "metadata": {
        "colab": {
          "base_uri": "https://localhost:8080/"
        },
        "id": "JGkclV-Uu1L_",
        "outputId": "b8ae5520-aa2e-497e-a0cc-019152aa80f1"
      },
      "outputs": [
        {
          "metadata": {
            "tags": null
          },
          "name": "stdout",
          "output_type": "stream",
          "text": [
            "Generated Username: Vishnu_FearlessSpy64\n",
            "Username saved to usernames.txt! 🎉\n",
            "Generated Username: Teja_DaringEagle40\n",
            "Username saved to usernames.txt! 🎉\n",
            "Generated Username: Yamini_LoyalQueen67\n",
            "Username saved to usernames.txt! 🎉\n",
            "Generated Username: Yashodhar_PlayfulTitan33\n",
            "Username saved to usernames.txt! 🎉\n"
          ]
        }
      ],
      "source": [
        "import random\n",
        "\n",
        "adjectives = [\"Happy\", \"Fast\", \"Cool\", \"Brave\", \"Fierce\", \"Clever\", \"Loyal\",\"Gentle\", \"Fearless\", \"Bold\", \"Charming\", \"Cunning\", \"Energetic\", \"Jolly\", \"Playful\", \"Epic\", \"Wild\",\n",
        "              \"Calm\", \"Lucky\", \"Daring\", \"Smart\", \"Glorious\", \"Cheerful\",\"Mystic\", \"Dynamic\", \"Eager\", \"Shiny\",\"Electric\", \"Thunderous\", \"Serene\", \"Puppy\", \"Mysterious\"]\n",
        "\n",
        "nouns = [\"Tiger\", \"Dragon\", \"Hero\", \"Ninja\", \"Warrior\", \"Wolf\", \"Panther\", \"Haluk\", \"Eagle\",\"Knight\", \"Samurai\", \"Storm\", \"Gladiator\", \"Jester\", \"Shadow\", \"Legend\", \"Pirate\", \"Guardian\",\"Champion\", \"Ranger\", \"Rider\", \"Hunter\", \"Soldier\", \"Master\", \"Beast\", \"Titan\", \"Rocket\",\n",
        "         \"Spy\", \"Wizard\", \"King\", \"Queen\", \"Dagger\",\"king\",\"Striker\", \"Sniper\", \"Sentinel\", \"Cyclone\", \"Mentel\"]\n",
        "\n",
        "def generate_username(name):\n",
        "    adj = random.choice(adjectives)\n",
        "    noun = random.choice(nouns)\n",
        "    number = random.randint(1, 99)\n",
        "    return name + \"_\" + adj + noun + str(number)\n",
        "\n",
        "while True:\n",
        "    user_name = input(\"\\n Enter your name / type 'exit' to quit: \\n\").strip().capitalize()\n",
        "\n",
        "    if user_name.lower() == \"exit\":\n",
        "        print(\"Goodbye! Have a great day! 😊\")\n",
        "        break\n",
        "\n",
        "    username = generate_username(user_name)\n",
        "    print(\"Generated Username:\", username)\n",
        "\n",
        "    with open(\"usernames.txt\", \"a\") as file:\n",
        "        file.write(username + \"\\n\")\n",
        "\n",
        "    print(\"Username saved to usernames.txt! 🎉\")\n"
      ]
    }
  ]
}